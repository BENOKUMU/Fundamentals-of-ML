{
 "cells": [
  {
   "cell_type": "code",
   "execution_count": 1,
   "id": "5b259aa3",
   "metadata": {},
   "outputs": [],
   "source": [
    "#importing modules\n",
    "import pandas as pd\n",
    "import matplotlib.pyplot as plt\n",
    "%matplotlib inline"
   ]
  },
  {
   "cell_type": "code",
   "execution_count": 4,
   "id": "8551979c",
   "metadata": {},
   "outputs": [],
   "source": [
    "#load data\n",
    "df = pd.read_csv(\"C:/Users/benja/Desktop/DS/ML-learning/USA_Housing.csv\")"
   ]
  },
  {
   "cell_type": "code",
   "execution_count": 5,
   "id": "f2616e65",
   "metadata": {
    "scrolled": false
   },
   "outputs": [
    {
     "name": "stdout",
     "output_type": "stream",
     "text": [
      "      Avg. Area Income  Avg. Area House Age  Avg. Area Number of Rooms  \\\n",
      "0         79545.458574             5.682861                   7.009188   \n",
      "1         79248.642455             6.002900                   6.730821   \n",
      "2         61287.067179             5.865890                   8.512727   \n",
      "3         63345.240046             7.188236                   5.586729   \n",
      "4         59982.197226             5.040555                   7.839388   \n",
      "...                ...                  ...                        ...   \n",
      "4995      60567.944140             7.830362                   6.137356   \n",
      "4996      78491.275435             6.999135                   6.576763   \n",
      "4997      63390.686886             7.250591                   4.805081   \n",
      "4998      68001.331235             5.534388                   7.130144   \n",
      "4999      65510.581804             5.992305                   6.792336   \n",
      "\n",
      "      Avg. Area Number of Bedrooms  Area Population         Price  \\\n",
      "0                             4.09     23086.800503  1.059034e+06   \n",
      "1                             3.09     40173.072174  1.505891e+06   \n",
      "2                             5.13     36882.159400  1.058988e+06   \n",
      "3                             3.26     34310.242831  1.260617e+06   \n",
      "4                             4.23     26354.109472  6.309435e+05   \n",
      "...                            ...              ...           ...   \n",
      "4995                          3.46     22837.361035  1.060194e+06   \n",
      "4996                          4.02     25616.115489  1.482618e+06   \n",
      "4997                          2.13     33266.145490  1.030730e+06   \n",
      "4998                          5.44     42625.620156  1.198657e+06   \n",
      "4999                          4.07     46501.283803  1.298950e+06   \n",
      "\n",
      "                                                Address  \n",
      "0     208 Michael Ferry Apt. 674\\nLaurabury, NE 3701...  \n",
      "1     188 Johnson Views Suite 079\\nLake Kathleen, CA...  \n",
      "2     9127 Elizabeth Stravenue\\nDanieltown, WI 06482...  \n",
      "3                             USS Barnett\\nFPO AP 44820  \n",
      "4                            USNS Raymond\\nFPO AE 09386  \n",
      "...                                                 ...  \n",
      "4995                   USNS Williams\\nFPO AP 30153-7653  \n",
      "4996              PSC 9258, Box 8489\\nAPO AA 42991-3352  \n",
      "4997  4215 Tracy Garden Suite 076\\nJoshualand, VA 01...  \n",
      "4998                          USS Wallace\\nFPO AE 73316  \n",
      "4999  37778 George Ridges Apt. 509\\nEast Holly, NV 2...  \n",
      "\n",
      "[5000 rows x 7 columns]\n"
     ]
    }
   ],
   "source": [
    "print(df)"
   ]
  },
  {
   "cell_type": "code",
   "execution_count": 7,
   "id": "dd142ddd",
   "metadata": {
    "scrolled": true
   },
   "outputs": [
    {
     "data": {
      "text/html": [
       "<div>\n",
       "<style scoped>\n",
       "    .dataframe tbody tr th:only-of-type {\n",
       "        vertical-align: middle;\n",
       "    }\n",
       "\n",
       "    .dataframe tbody tr th {\n",
       "        vertical-align: top;\n",
       "    }\n",
       "\n",
       "    .dataframe thead th {\n",
       "        text-align: right;\n",
       "    }\n",
       "</style>\n",
       "<table border=\"1\" class=\"dataframe\">\n",
       "  <thead>\n",
       "    <tr style=\"text-align: right;\">\n",
       "      <th></th>\n",
       "      <th>Avg. Area Income</th>\n",
       "      <th>Avg. Area House Age</th>\n",
       "      <th>Avg. Area Number of Rooms</th>\n",
       "      <th>Avg. Area Number of Bedrooms</th>\n",
       "      <th>Area Population</th>\n",
       "      <th>Price</th>\n",
       "    </tr>\n",
       "  </thead>\n",
       "  <tbody>\n",
       "    <tr>\n",
       "      <th>count</th>\n",
       "      <td>5000.000000</td>\n",
       "      <td>5000.000000</td>\n",
       "      <td>5000.000000</td>\n",
       "      <td>5000.000000</td>\n",
       "      <td>5000.000000</td>\n",
       "      <td>5.000000e+03</td>\n",
       "    </tr>\n",
       "    <tr>\n",
       "      <th>mean</th>\n",
       "      <td>68583.108984</td>\n",
       "      <td>5.977222</td>\n",
       "      <td>6.987792</td>\n",
       "      <td>3.981330</td>\n",
       "      <td>36163.516039</td>\n",
       "      <td>1.232073e+06</td>\n",
       "    </tr>\n",
       "    <tr>\n",
       "      <th>std</th>\n",
       "      <td>10657.991214</td>\n",
       "      <td>0.991456</td>\n",
       "      <td>1.005833</td>\n",
       "      <td>1.234137</td>\n",
       "      <td>9925.650114</td>\n",
       "      <td>3.531176e+05</td>\n",
       "    </tr>\n",
       "    <tr>\n",
       "      <th>min</th>\n",
       "      <td>17796.631190</td>\n",
       "      <td>2.644304</td>\n",
       "      <td>3.236194</td>\n",
       "      <td>2.000000</td>\n",
       "      <td>172.610686</td>\n",
       "      <td>1.593866e+04</td>\n",
       "    </tr>\n",
       "    <tr>\n",
       "      <th>25%</th>\n",
       "      <td>61480.562388</td>\n",
       "      <td>5.322283</td>\n",
       "      <td>6.299250</td>\n",
       "      <td>3.140000</td>\n",
       "      <td>29403.928702</td>\n",
       "      <td>9.975771e+05</td>\n",
       "    </tr>\n",
       "    <tr>\n",
       "      <th>50%</th>\n",
       "      <td>68804.286404</td>\n",
       "      <td>5.970429</td>\n",
       "      <td>7.002902</td>\n",
       "      <td>4.050000</td>\n",
       "      <td>36199.406689</td>\n",
       "      <td>1.232669e+06</td>\n",
       "    </tr>\n",
       "    <tr>\n",
       "      <th>75%</th>\n",
       "      <td>75783.338666</td>\n",
       "      <td>6.650808</td>\n",
       "      <td>7.665871</td>\n",
       "      <td>4.490000</td>\n",
       "      <td>42861.290769</td>\n",
       "      <td>1.471210e+06</td>\n",
       "    </tr>\n",
       "    <tr>\n",
       "      <th>max</th>\n",
       "      <td>107701.748378</td>\n",
       "      <td>9.519088</td>\n",
       "      <td>10.759588</td>\n",
       "      <td>6.500000</td>\n",
       "      <td>69621.713378</td>\n",
       "      <td>2.469066e+06</td>\n",
       "    </tr>\n",
       "  </tbody>\n",
       "</table>\n",
       "</div>"
      ],
      "text/plain": [
       "       Avg. Area Income  Avg. Area House Age  Avg. Area Number of Rooms  \\\n",
       "count       5000.000000          5000.000000                5000.000000   \n",
       "mean       68583.108984             5.977222                   6.987792   \n",
       "std        10657.991214             0.991456                   1.005833   \n",
       "min        17796.631190             2.644304                   3.236194   \n",
       "25%        61480.562388             5.322283                   6.299250   \n",
       "50%        68804.286404             5.970429                   7.002902   \n",
       "75%        75783.338666             6.650808                   7.665871   \n",
       "max       107701.748378             9.519088                  10.759588   \n",
       "\n",
       "       Avg. Area Number of Bedrooms  Area Population         Price  \n",
       "count                   5000.000000      5000.000000  5.000000e+03  \n",
       "mean                       3.981330     36163.516039  1.232073e+06  \n",
       "std                        1.234137      9925.650114  3.531176e+05  \n",
       "min                        2.000000       172.610686  1.593866e+04  \n",
       "25%                        3.140000     29403.928702  9.975771e+05  \n",
       "50%                        4.050000     36199.406689  1.232669e+06  \n",
       "75%                        4.490000     42861.290769  1.471210e+06  \n",
       "max                        6.500000     69621.713378  2.469066e+06  "
      ]
     },
     "execution_count": 7,
     "metadata": {},
     "output_type": "execute_result"
    }
   ],
   "source": [
    "df.describe()"
   ]
  },
  {
   "cell_type": "code",
   "execution_count": 8,
   "id": "c6b818ae",
   "metadata": {},
   "outputs": [
    {
     "data": {
      "text/plain": [
       "<AxesSubplot:title={'center':'Housing'}, xlabel='Avg. Area Number of Rooms', ylabel='Avg. Area Number of Bedrooms'>"
      ]
     },
     "execution_count": 8,
     "metadata": {},
     "output_type": "execute_result"
    },
    {
     "data": {
      "image/png": "[encoded data removed]",
      "text/plain": [
       "<Figure size 432x288 with 1 Axes>"
      ]
     },
     "metadata": {
      "needs_background": "light"
     },
     "output_type": "display_data"
    }
   ],
   "source": [
    "#simple scatter plot\n",
    "df.plot(kind='scatter', x='Avg. Area Number of Rooms', y='Avg. Area Number of Bedrooms',\n",
    "       title='Housing')"
   ]
  },
  {
   "cell_type": "code",
   "execution_count": 9,
   "id": "ae60fa49",
   "metadata": {},
   "outputs": [
    {
     "name": "stdout",
     "output_type": "stream",
     "text": [
      "                              Avg. Area Income  Avg. Area House Age  \\\n",
      "Avg. Area Income                      1.000000            -0.002007   \n",
      "Avg. Area House Age                  -0.002007             1.000000   \n",
      "Avg. Area Number of Rooms            -0.011032            -0.009428   \n",
      "Avg. Area Number of Bedrooms          0.019788             0.006149   \n",
      "Area Population                      -0.016234            -0.018743   \n",
      "Price                                 0.639734             0.452543   \n",
      "\n",
      "                              Avg. Area Number of Rooms  \\\n",
      "Avg. Area Income                              -0.011032   \n",
      "Avg. Area House Age                           -0.009428   \n",
      "Avg. Area Number of Rooms                      1.000000   \n",
      "Avg. Area Number of Bedrooms                   0.462695   \n",
      "Area Population                                0.002040   \n",
      "Price                                          0.335664   \n",
      "\n",
      "                              Avg. Area Number of Bedrooms  Area Population  \\\n",
      "Avg. Area Income                                  0.019788        -0.016234   \n",
      "Avg. Area House Age                               0.006149        -0.018743   \n",
      "Avg. Area Number of Rooms                         0.462695         0.002040   \n",
      "Avg. Area Number of Bedrooms                      1.000000        -0.022168   \n",
      "Area Population                                  -0.022168         1.000000   \n",
      "Price                                             0.171071         0.408556   \n",
      "\n",
      "                                 Price  \n",
      "Avg. Area Income              0.639734  \n",
      "Avg. Area House Age           0.452543  \n",
      "Avg. Area Number of Rooms     0.335664  \n",
      "Avg. Area Number of Bedrooms  0.171071  \n",
      "Area Population               0.408556  \n",
      "Price                         1.000000  \n"
     ]
    }
   ],
   "source": [
    "print(df.corr())"
   ]
  },
  {
   "cell_type": "code",
   "execution_count": 10,
   "id": "ae943782",
   "metadata": {},
   "outputs": [],
   "source": [
    "#importing linear regression function\n",
    "import sklearn.linear_model as lm"
   ]
  },
  {
   "cell_type": "code",
   "execution_count": 17,
   "id": "c0fcc058",
   "metadata": {},
   "outputs": [
    {
     "ename": "AttributeError",
     "evalue": "'DataFrame' object has no attribute 'x'",
     "output_type": "error",
     "traceback": [
      "\u001b[1;31m---------------------------------------------------------------------------\u001b[0m",
      "\u001b[1;31mAttributeError\u001b[0m                            Traceback (most recent call last)",
      "\u001b[1;32m~\\AppData\\Local\\Temp/ipykernel_11092/4003925508.py\u001b[0m in \u001b[0;36m<module>\u001b[1;34m\u001b[0m\n\u001b[0;32m      3\u001b[0m \u001b[1;33m\u001b[0m\u001b[0m\n\u001b[0;32m      4\u001b[0m \u001b[0mx\u001b[0m \u001b[1;33m=\u001b[0m \u001b[1;34m\"Avg.Area Number of Rooms\"\u001b[0m\u001b[1;33m\u001b[0m\u001b[1;33m\u001b[0m\u001b[0m\n\u001b[1;32m----> 5\u001b[1;33m \u001b[0mdf\u001b[0m\u001b[1;33m.\u001b[0m\u001b[0mx\u001b[0m\u001b[1;33m\u001b[0m\u001b[1;33m\u001b[0m\u001b[0m\n\u001b[0m",
      "\u001b[1;32m~\\anaconda3\\lib\\site-packages\\pandas\\core\\generic.py\u001b[0m in \u001b[0;36m__getattr__\u001b[1;34m(self, name)\u001b[0m\n\u001b[0;32m   5485\u001b[0m         ):\n\u001b[0;32m   5486\u001b[0m             \u001b[1;32mreturn\u001b[0m \u001b[0mself\u001b[0m\u001b[1;33m[\u001b[0m\u001b[0mname\u001b[0m\u001b[1;33m]\u001b[0m\u001b[1;33m\u001b[0m\u001b[1;33m\u001b[0m\u001b[0m\n\u001b[1;32m-> 5487\u001b[1;33m         \u001b[1;32mreturn\u001b[0m \u001b[0mobject\u001b[0m\u001b[1;33m.\u001b[0m\u001b[0m__getattribute__\u001b[0m\u001b[1;33m(\u001b[0m\u001b[0mself\u001b[0m\u001b[1;33m,\u001b[0m \u001b[0mname\u001b[0m\u001b[1;33m)\u001b[0m\u001b[1;33m\u001b[0m\u001b[1;33m\u001b[0m\u001b[0m\n\u001b[0m\u001b[0;32m   5488\u001b[0m \u001b[1;33m\u001b[0m\u001b[0m\n\u001b[0;32m   5489\u001b[0m     \u001b[1;32mdef\u001b[0m \u001b[0m__setattr__\u001b[0m\u001b[1;33m(\u001b[0m\u001b[0mself\u001b[0m\u001b[1;33m,\u001b[0m \u001b[0mname\u001b[0m\u001b[1;33m:\u001b[0m \u001b[0mstr\u001b[0m\u001b[1;33m,\u001b[0m \u001b[0mvalue\u001b[0m\u001b[1;33m)\u001b[0m \u001b[1;33m->\u001b[0m \u001b[1;32mNone\u001b[0m\u001b[1;33m:\u001b[0m\u001b[1;33m\u001b[0m\u001b[1;33m\u001b[0m\u001b[0m\n",
      "\u001b[1;31mAttributeError\u001b[0m: 'DataFrame' object has no attribute 'x'"
     ]
    }
   ],
   "source": [
    "#create a linear regression object\n",
    "lr = lm.LinearRegression()\n",
    "\n",
    "x = \"Avg.Area Number of Rooms\"\n",
    "df.x"
   ]
  },
  {
   "cell_type": "code",
   "execution_count": null,
   "id": "4ecf1722",
   "metadata": {},
   "outputs": [],
   "source": []
  }
 ],
 "metadata": {
  "kernelspec": {
   "display_name": "Python 3 (ipykernel)",
   "language": "python",
   "name": "python3"
  },
  "language_info": {
   "codemirror_mode": {
    "name": "ipython",
    "version": 3
   },
   "file_extension": ".py",
   "mimetype": "text/x-python",
   "name": "python",
   "nbconvert_exporter": "python",
   "pygments_lexer": "ipython3",
   "version": "3.9.7"
  }
 },
 "nbformat": 4,
 "nbformat_minor": 5
}
